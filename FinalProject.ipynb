{
  "nbformat": 4,
  "nbformat_minor": 0,
  "metadata": {
    "colab": {
      "provenance": [],
      "authorship_tag": "ABX9TyPOQCz34KNDLXjhq+oyfa7w",
      "include_colab_link": true
    },
    "kernelspec": {
      "name": "python3",
      "display_name": "Python 3"
    }
  },
  "cells": [
    {
      "cell_type": "markdown",
      "metadata": {
        "id": "view-in-github",
        "colab_type": "text"
      },
      "source": [
        "<a href=\"https://colab.research.google.com/github/nabilathazila/kalkulator/blob/main/FinalProject.ipynb\" target=\"_parent\"><img src=\"https://colab.research.google.com/assets/colab-badge.svg\" alt=\"Open In Colab\"/></a>"
      ]
    },
    {
      "cell_type": "markdown",
      "source": [
        "**Tugas Akhir Alogirtma dan Pemrograman**\n",
        "Nabila Khaerunisa Thazila\n",
        "226150100111001\n",
        "\n",
        "**Instruksi:**\n",
        "Buat sebuah kode program bahasa Python (boleh menggunakan Google Colab) sederhana yang membaca sebuah file (JSON/CSV/XLSX) dari website https://data.go.id/home. Mahasiswa bebas untuk memilih data apa yang akan digunakan. Kode program tersebut kemudian membuat rangkuman terkait data yang telah dibaca. Tidak ada ketentuan yang mengatur terkait bagaimana data dirangkum tersebut. Gunakan library apapun yang dibutuhkan untuk hal tersebut.\n",
        "\n",
        "**Waktu pengumpulan maksimal Rabu, 14 September 2022, pukul 16.00 WIB.**"
      ],
      "metadata": {
        "id": "U9h33egY92DD"
      }
    },
    {
      "cell_type": "code",
      "metadata": {
        "id": "banmYf0vCsB7"
      },
      "source": [
        "  "
      ],
      "execution_count": null,
      "outputs": []
    }
  ]
}